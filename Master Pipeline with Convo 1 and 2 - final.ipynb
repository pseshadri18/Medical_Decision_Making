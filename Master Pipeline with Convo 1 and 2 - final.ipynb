{
 "cells": [
  {
   "cell_type": "markdown",
   "metadata": {},
   "source": [
    "# Master (Leave-One-Out) Pipeline\n",
    "\n",
    "This is our master pipeline, which takes us through text pre-processing, LDA topic modeling, leave-one-out cross-validation, and model evaluation.\n",
    "\n",
    "Our analysis focused on comparing three models:\n",
    "- a model with baseline measures\n",
    "- a model with baseline measures and topic distributions\n",
    "- a model with baseline measures and physician's advice\n",
    "\n",
    "We want to show that the model with topic distributions performs:\n",
    "1. better than the baseline model\n",
    "2. comparably to the model with advice\n",
    "\n",
    "This pipeline differs from our other Master Pipeline file as this one uses an LDA model that's trained on both conversations (as before), but then applies the model separately to Conversation 1 and Conversation 2. Therefore, with 12 topics, we get 24 features in this file rather than the 12 in the other file. "
   ]
  },
  {
   "cell_type": "markdown",
   "metadata": {},
   "source": [
    "## Import Statements"
   ]
  },
  {
   "cell_type": "code",
   "execution_count": 1,
   "metadata": {},
   "outputs": [
    {
     "name": "stdout",
     "output_type": "stream",
     "text": [
      "[nltk_data] Downloading package stopwords to\n",
      "[nltk_data]     /Users/samanthagarland/nltk_data...\n",
      "[nltk_data]   Package stopwords is already up-to-date!\n"
     ]
    }
   ],
   "source": [
    "import nltk\n",
    "nltk.download('stopwords')\n",
    "from nltk.corpus import stopwords\n",
    "\n",
    "import re\n",
    "import numpy as np\n",
    "import pandas as pd\n",
    "from pprint import pprint\n",
    "from collections import Counter, defaultdict\n",
    "from IPython.display import clear_output\n",
    "from matplotlib import pyplot\n",
    "\n",
    "import warnings\n",
    "warnings.filterwarnings('ignore')\n",
    "\n",
    "#gensim for topic modeling with LDA\n",
    "import gensim\n",
    "import gensim.corpora as corpora\n",
    "from gensim.utils import simple_preprocess\n",
    "from gensim.models import CoherenceModel\n",
    "from gensim.models import TfidfModel\n",
    "from gensim.models import NormModel\n",
    "\n",
    "#spacy for lemmatization\n",
    "import spacy\n",
    "import en_core_web_sm\n",
    "\n",
    "#xgboost for our classification model\n",
    "from xgboost import XGBClassifier, plot_importance\n",
    "\n",
    "#sklearn from cross-validation methods\n",
    "from sklearn.preprocessing import OneHotEncoder, scale, LabelEncoder\n",
    "from sklearn import metrics\n",
    "from sklearn.model_selection import StratifiedKFold, KFold, GridSearchCV, LeaveOneOut\n",
    "from sklearn.ensemble import RandomForestClassifier"
   ]
  },
  {
   "cell_type": "markdown",
   "metadata": {},
   "source": [
    "## Methods"
   ]
  },
  {
   "cell_type": "code",
   "execution_count": 2,
   "metadata": {},
   "outputs": [],
   "source": [
    "#for pre-processing our transcripts\n",
    "\n",
    "nlp = en_core_web_sm.load(disable=['parser', 'ner'])\n",
    "\n",
    "def sent_to_words(sentences):\n",
    "    for sentence in sentences:\n",
    "        yield(gensim.utils.simple_preprocess(str(sentence), deacc=True))\n",
    "\n",
    "def remove_stopwords(texts):\n",
    "    return [[word for word in simple_preprocess(str(doc)) if word not in stopWords] for doc in texts]\n",
    "\n",
    "def make_bigrams_combined(texts):\n",
    "    return [bigram_mod_combined[doc] for doc in texts]\n",
    "\n",
    "def make_bigrams_convo1(texts):\n",
    "    return [bigram_mod_convo1[doc] for doc in texts]\n",
    "\n",
    "def make_bigrams_convo2(texts):\n",
    "    return [bigram_mod_convo2[doc] for doc in texts]\n",
    "\n",
    "def lemmatization(texts, allowed_postags=['NOUN', 'ADJ', 'VERB', 'ADV']):\n",
    "    \"\"\"https://spacy.io/api/annotation\"\"\"\n",
    "    texts_out = []\n",
    "    for sent in texts:\n",
    "        doc = nlp(\" \".join(sent)) \n",
    "        texts_out.append([token.lemma_ for token in doc if token.pos_ in allowed_postags])\n",
    "    return texts_out   "
   ]
  },
  {
   "cell_type": "code",
   "execution_count": 3,
   "metadata": {},
   "outputs": [],
   "source": [
    "#methods for classification methods\n",
    "def predict_loo(clf, X_train, y_train, X_test, y_test):\n",
    "    X_train = np.array(X_train)\n",
    "    y_train = np.array(y_train)\n",
    "    X_test = np.array(X_test)\n",
    "    y_test = np.array(y_test)\n",
    "    clf.fit(X_train, y_train.ravel())\n",
    "    y_pred_tr = clf.predict(X_train)\n",
    "    y_pred_ts = clf.predict(X_test)\n",
    "    return y_pred_tr, y_pred_ts\n",
    "\n",
    "def compute_metrics(actual, pred):\n",
    "    accuracy = metrics.accuracy_score(actual, pred)\n",
    "    precision = metrics.precision_score(actual, pred)\n",
    "    recall = metrics.recall_score(actual, pred)\n",
    "    auc = metrics.roc_auc_score(actual, pred)\n",
    "    return accuracy, precision, recall, auc"
   ]
  },
  {
   "cell_type": "markdown",
   "metadata": {},
   "source": [
    "## Stop Words\n",
    "For an explanation of how we created this list, please see our Stop_Word_Rules file."
   ]
  },
  {
   "cell_type": "code",
   "execution_count": 4,
   "metadata": {},
   "outputs": [
    {
     "name": "stdout",
     "output_type": "stream",
     "text": [
      "We have 435 stop words.\n"
     ]
    }
   ],
   "source": [
    "stopWords = stopwords.words('english')\n",
    "stopWords = set([word.replace(\"'\", \"\") for word in stopWords])\n",
    "stopWords = stopWords.union(set([\"dr\", \"soo\", \"mmhmmm\", \"taiwan\", \"taiwanese\", \"communist\", \"mmmhmm\", \"'\", \"'cause\", \"'em\", 'a', 'aa', 'aaah', 'aah', 'ab', 'about', 'above', 'african', 'after', 'again', 'against', 'ah', 'ahh', 'ahhh', 'ahhhh', 'ahhm', 'ain', 'aint', 'alabama', 'alaska', 'all', 'alot', 'alright', 'alrighty', 'also', 'am', 'an', 'anand', 'and', 'andand', 'any', 'anyone', 'are', 'aren', 'arent', 'as', 'at', 'ay', 'b', 'be', 'because', 'been', 'before', 'being', 'below', 'between', 'both', 'but', 'by', 'bye', 'c', 'california', 'came', 'can', 'cant', 'clean', 'costa_rica', 'could', 'couldn', 'couldnt', 'cuz', 'd', 'de', 'did', 'didn', 'didnt', 'do', 'doc', 'does', 'doesn', 'doesnt', 'doin', 'doing', 'dokey', 'don', 'dont', 'down', 'during', 'e', 'each', 'eek', 'eh', 'em', 'er', 'et', 'etc', 'europe', 'f', 'few', 'florida','for', 'from', 'further', 'g', 'ga', 'gal', 'gee', 'geez', 'germany', 'get', 'go', 'goin', 'going', 'gonna', 'gosh', 'got', 'gotta', 'greek', 'gu', 'h', 'ha', 'had', 'hadn', 'hadnt', 'has', 'hasn', 'hasnt', 'have', 'haven', 'havent', 'having', 'he', 'hed', 'heh', 'hell', 'hello', 'henry', 'her', 'here', 'hers', 'herself', 'hes', 'hey', 'hi', 'him', 'himself', 'his', 'hm', 'hmm', 'hmmm', 'hodgkins', 'how', 'hows', 'huh', 'hum', 'i', 'id', 'if', 'ifif', 'ii', 'iii', 'ill', 'im', 'imrt', 'in', 'inaudible', 'indecipherable', 'indianapolis', 'into', 'is', 'isis', 'isn', 'isnt', 'it', 'itd', 'itit', 'itll', 'its', 'itself', 'ive', 'j', 'jeez', 'just', 'k', 'kay', 'kinda', 'l', 'laughs', 'le', 'leastno', 'legend', 'let', 'lets', 'like', 'll', 'look', 'lot', 'm', 'ma', 'maam', 'md', 'mdmd', 'me', 'mhm', 'mhmm', 'mhmmm', 'michigan', 'mightn', 'mightnt', 'mightve', 'mkay', 'mm', 'mmhm', 'mmhmm', 'mmkay', 'mmm', 'mmmhmm','mmmhmmm', 'mmmm', 'mmmmm', 'more', 'most', 'mustn', 'mustnt', 'mustve', 'my', 'myself', 'n', 'na', 'nah', 'nahuh', 'nd', 'ne', 'needn', 'neednt', 'nn', 'no', 'nooh', 'noooo', 'nope', 'nor', 'not', 'now', 'o', 'of', 'off', 'oh', 'ohh', 'ohhh', 'ohhhohohohoh', 'ohio', 'ok', 'okay', 'okey', 'on', 'once', 'only', 'oooh', 'or', 'oth', 'other', 'othumhmm', 'oughta', 'our', 'ours', 'ourselves', 'out', 'over', 'ow', 'own', 'p', 'patient', 'phi', 'physician', 'potter', 'pt', 'pt/so', 'q', 'r', 'rd', 're', 'right', 'ro', 's', 'said', 'same', 'say', 'see', 'shan', 'shant', 'she', 'shell', 'shes', 'should', 'shouldn', 'shouldnt', 'shouldve', 'so', 'some', 'sorta', 'sounds', 'st', 'stuff', 'such', 'swedish', 't', 'th', 'than', 'that', 'thatd', 'thatll', 'thats', 'thatsthat', 'the', 'their', 'theirs', 'them', 'themselves', 'then', 'there', 'thered', 'thereof', 'theres', 'thereve', 'these', 'thethe', 'thew', 'they', 'theyll', 'theyre', 'theyve', 'thing', 'things', 'this', 'those', 'through', 'ti', 'to', 'too', 'tthe', 'u', 'uh', 'uhh', 'uhhhhh', 'uhhm', 'uhhmm', 'uhhuh', 'uhm', 'uhmhmm', 'uhmhmmm', 'uhmmm', 'uhoh', 'uhum', 'um', 'umhmm', 'umhmmm', 'umm', 'ummm', 'ummmm', 'un', 'under', 'unhunh', 'until', 'up', 'us', 'uuh', 'v', 've', 'very', 'vietnam', 'virginia', 'w', 'walsh', 'wanna', 'was', 'washington', 'wasn', 'wasnt', 'we', 'wed', 'well', 'went', 'were', 'weren', 'werent', 'weve', 'wewe', 'what', 'whatd', 'whatev', 'whatever', 'whatnot', 'whats', 'when', 'where', 'wheres', 'whew', 'which', 'while', 'who', 'whoa', 'whom', 'whos', 'why', 'will', 'with', 'won', 'wont', 'would', 'wouldn', 'wouldnt', 'x', 'y', 'ya', 'yada', 'yah', 'yall', 'yea', 'yeah', 'yep', 'yepvery', 'yer', 'yeyeah', 'you', 'youd', 'youl', 'youll', 'your', 'youre', 'yours', 'yourself', 'yourselves', 'youve', 'youyou', 'yup', 'z']))\n",
    "print(\"We have\", len(stopWords), \"stop words.\")"
   ]
  },
  {
   "cell_type": "markdown",
   "metadata": {},
   "source": [
    "# Evaluating Our Models\n",
    "\n",
    "We use accuracy, precision, recall, and AUC as our performance metrics."
   ]
  },
  {
   "cell_type": "markdown",
   "metadata": {},
   "source": [
    "## Baseline + Topics\n",
    "\n",
    "Variables:\n",
    "- age\n",
    "- gleason -- cancer grade\n",
    "- DVD -- control condition from previous study\n",
    "- tx2_binary -- preference (active surveillance vs treatment) before clinical appointment\n",
    "- combined_convos -- transcripts from all clinical appointments\n",
    "- as1 -- physician's advice for active surveillance\n",
    "- sur1 -- physician's advice for surgery\n",
    "- rad1 -- physician's advice for radiation therapy"
   ]
  },
  {
   "cell_type": "code",
   "execution_count": 6,
   "metadata": {},
   "outputs": [
    {
     "name": "stdout",
     "output_type": "stream",
     "text": [
      "139\n"
     ]
    }
   ],
   "source": [
    "df = pd.read_csv('dvd_advice_text.csv') # 'dvd_withAdvice_final.csv'\n",
    "\n",
    "factors_all = [\"age\", \"gleason\", \"DVD\", \"tx2_binary\", \"combined_convos\", \"as1\", \"sur1\", \"rad1\"]\n",
    "df = df.dropna(subset=factors_all) #we only want to perform analysis on patients without any missing data for any of our variables\n",
    "df = df.reset_index(drop=True)\n",
    "factors_sub = [\"age\", \"gleason\", \"DVD\", \"tx2_binary\"] #these are the variables we'll actually use for this model\n",
    "\n",
    "lda_models = [] #keeps track of all lda models we produce\n",
    "\n",
    "X = df[factors_sub]\n",
    "y = df[\"txgot_binary\"]\n",
    "X = np.array(X)\n",
    "y = np.array(y)\n",
    "print(len(X))"
   ]
  },
  {
   "cell_type": "code",
   "execution_count": 7,
   "metadata": {},
   "outputs": [],
   "source": [
    "# save indices of missing conversations to convert them into missing data before feeding into XGBoost model\n",
    "convo1_indices = []\n",
    "convo2_indices = []\n",
    "for index, row in df.iterrows():\n",
    "    if pd.isnull(row['Convo_1']):\n",
    "        convo1_indices.append(index)\n",
    "    if pd.isnull(row['Convo_2']):\n",
    "        convo2_indices.append(index)"
   ]
  },
  {
   "cell_type": "code",
   "execution_count": 8,
   "metadata": {},
   "outputs": [
    {
     "name": "stdout",
     "output_type": "stream",
     "text": [
      "convo 1 indices [2, 14, 25, 32, 61, 100, 122, 137]\n",
      "convo 2 indices [0, 1, 4, 6, 9, 13, 22, 24, 26, 28, 34, 35, 36, 37, 41, 45, 47, 50, 51, 54, 56, 57, 72, 73, 74, 75, 76, 77, 83, 84, 85, 87, 94, 95, 97, 99, 103, 106, 108, 110, 111, 112, 116, 117, 119, 121, 123, 126, 127, 128, 130]\n"
     ]
    }
   ],
   "source": [
    "print('convo 1 indices', convo1_indices)\n",
    "print('convo 2 indices', convo2_indices)"
   ]
  },
  {
   "cell_type": "markdown",
   "metadata": {},
   "source": [
    "# Processing the Transcripts\n",
    "\n",
    "Note: As we will be applying the LDA model to conversations 1 and 2 separately, we need to process the texts in three ways: combined, only convo 1, and only convo2. "
   ]
  },
  {
   "cell_type": "code",
   "execution_count": 9,
   "metadata": {},
   "outputs": [],
   "source": [
    "#collect all conversations\n",
    "convo_combined = df[\"combined_convos\"]\n",
    "convo1 = df[\"Convo_1\"]\n",
    "convo2 = df[\"Convo_2\"]\n",
    "\n",
    "data_words_combined = list(sent_to_words(convo_combined))\n",
    "convo1 = list(sent_to_words(convo1))\n",
    "convo2 = list(sent_to_words(convo2))\n",
    "\n",
    "#creates bigrams of words commonly found together\n",
    "#for example, active_surveillance\n",
    "bigram_combined = gensim.models.Phrases(data_words_combined, min_count=2, threshold=100) \n",
    "bigram_convo1 = gensim.models.Phrases(convo1, min_count=2, threshold=100) \n",
    "bigram_convo2 = gensim.models.Phrases(convo2, min_count=2, threshold=100) \n",
    "\n",
    "bigram_mod_combined = gensim.models.phrases.Phraser(bigram_combined)\n",
    "bigram_mod_convo1 = gensim.models.phrases.Phraser(bigram_convo1)\n",
    "bigram_mod_convo2 = gensim.models.phrases.Phraser(bigram_convo2)\n",
    "\n",
    "#remove stop words\n",
    "data_words_nostops_combined = remove_stopwords(data_words_combined)\n",
    "data_words_nostops_convo1 = remove_stopwords(convo1)\n",
    "data_words_nostops_convo2 = remove_stopwords(convo2)\n",
    "\n",
    "data_words_bigrams_combined = make_bigrams_combined(data_words_nostops_combined)\n",
    "data_words_bigrams_convo1 = make_bigrams_convo1(data_words_nostops_convo1)\n",
    "data_words_bigrams_convo2 = make_bigrams_convo2(data_words_nostops_convo2)\n",
    "\n",
    "nlp = spacy.load('en', disable=['parser', 'ner'])\n",
    "\n",
    "#lemmatize the words\n",
    "data_lemmatized_combined = lemmatization(data_words_bigrams_combined, allowed_postags=['NOUN', 'ADJ', 'VERB', 'ADV'])\n",
    "data_lemmatized_convo1 = lemmatization(data_words_bigrams_convo1, allowed_postags=['NOUN', 'ADJ', 'VERB', 'ADV'])\n",
    "data_lemmatized_convo2 = lemmatization(data_words_bigrams_convo2, allowed_postags=['NOUN', 'ADJ', 'VERB', 'ADV'])\n",
    "\n",
    "#remove stop words again (as lemmatization sometimes reduces words that turn out to be stop words)\n",
    "data_lemmatized_combined = [[word for word in convo if word not in stopWords] for convo in data_lemmatized_combined]\n",
    "data_lemmatized_convo1 = [[word for word in convo if word not in stopWords] for convo in data_lemmatized_convo1]\n",
    "data_lemmatized_convo2 = [[word for word in convo if word not in stopWords] for convo in data_lemmatized_convo2]"
   ]
  },
  {
   "cell_type": "markdown",
   "metadata": {},
   "source": [
    "### LOOCV Pipeline"
   ]
  },
  {
   "cell_type": "code",
   "execution_count": 10,
   "metadata": {
    "scrolled": true
   },
   "outputs": [
    {
     "name": "stdout",
     "output_type": "stream",
     "text": [
      "finished round  139\n"
     ]
    }
   ],
   "source": [
    "#stores the testing predictions and training performance metrics\n",
    "predictions_ts = []\n",
    "accuracy_tr = []\n",
    "precision_tr = []\n",
    "recall_tr = []\n",
    "auc_tr = []\n",
    "\n",
    "# PARAMETERS\n",
    "# gradient-boosting\n",
    "max_depth = 3\n",
    "subsample = 0.9\n",
    "\n",
    "# LDA\n",
    "no_below = 0.0 # filters out words that are in fewer than no_below documents\n",
    "no_above = 0.7 # filters out words that are in more than no_above documents\n",
    "keep_n = 5000 # dictionary size\n",
    "\n",
    "loo = LeaveOneOut()\n",
    "index = 1 # for keeping track of progress\n",
    "\n",
    "for train_index, test_index in loo.split(X): # Loop over all split possibilities\n",
    "    # first split up the dataset\n",
    "    X_train, X_test = X[train_index], X[test_index]\n",
    "    y_train, y_test = y[train_index], y[test_index]\n",
    "    \n",
    "    # convert into numpy arrays \n",
    "    combined_lemmatized = np.array(data_lemmatized_combined)\n",
    "    convo1_lemmatized = np.array(data_lemmatized_convo1)\n",
    "    convo2_lemmatized = np.array(data_lemmatized_convo2)\n",
    "    \n",
    "    # construct Dictionary from combined datasets \n",
    "    id2word_combined = corpora.Dictionary(combined_lemmatized[train_index]) # build corpus on training data only (NO LEAKAGE)\n",
    "    id2word_combined.filter_extremes(no_below = no_below, no_above = no_above, keep_n = keep_n, keep_tokens = None)\n",
    "\n",
    "    # create Bag of words model\n",
    "    corp_combined = [id2word_combined.doc2bow(text) for text in combined_lemmatized]\n",
    "    corp_convo1 = [id2word_combined.doc2bow(text) for text in convo1_lemmatized]\n",
    "    corp_convo2 = [id2word_combined.doc2bow(text) for text in convo2_lemmatized]\n",
    "    \n",
    "    corp_combined = np.array(corp_combined)\n",
    "    corp_convo1 = np.array(corp_convo1)\n",
    "    corp_convo2 = np.array(corp_convo2)\n",
    " \n",
    "    # split corpus by training and testing indices \n",
    "    corp_combined_train = corp_combined[train_index]\n",
    "    corp_convo1_train = corp_convo1[train_index]\n",
    "    corp_convo2_train = corp_convo2[train_index]\n",
    "    \n",
    "    corp_convo1_test = corp_convo1[test_index]\n",
    "    corp_convo2_test = corp_convo2[test_index]\n",
    "\n",
    "    # create LDA Model on combined dataset (on training data only)\n",
    "    lda_model = gensim.models.ldamodel.LdaModel(corpus=corp_combined_train,\n",
    "                                           id2word=id2word_combined,\n",
    "                                           num_topics=12, \n",
    "                                           random_state=100,\n",
    "                                           update_every=3,\n",
    "                                           chunksize=20,\n",
    "                                           passes=10,\n",
    "                                           alpha='auto',\n",
    "                                           per_word_topics=True)\n",
    "    \n",
    "    # convert back into dataframe so we can append topic distributions\n",
    "    X_train = pd.DataFrame({'age':X_train[:,0],'gleason':X_train[:,1], \"DVD\": X_train[:,2], \"tx2_binary\": X_train[:, 3]})\n",
    "    X_test = pd.DataFrame({'age':X_test[:,0],'gleason':X_test[:,1],\"DVD\": X_test[:,2], \"tx2_binary\": X_test[:, 3]})\n",
    "\n",
    "    # get topic distributions for convo_1 and convo_2 training\n",
    "    distributions_convo1 = lda_model[corp_convo1_train] # training\n",
    "    distributions_convo2 = lda_model[corp_convo2_train]\n",
    "    length = len(corp_convo1_train) \n",
    "    \n",
    "    topic_dist = [] # topic distributions for convo_1 training\n",
    "    for i in range(12): # number of topics in topic model\n",
    "        topic_dist.append([0.0]*length) # initialize all topic distributions to 0\n",
    "    for en, row in enumerate(distributions_convo1):\n",
    "        topics = row[0]\n",
    "        for topic in topics: # list of tuples that contains non-zero topic distributions in format [(1,.034), (4, .458)...]\n",
    "            topic_dist[topic[0]][en] = topic[1]\n",
    "        if en in convo1_indices: # if there is no conversation, treat as missing data\n",
    "            for i in range(12):\n",
    "                topic_dist[i][en] = np.nan\n",
    "    for i in range(12): # store topic distributions for convo 1 in training dataframe\n",
    "        X_train['c1_topic' + str(i)] = topic_dist[i]\n",
    "        \n",
    "    topic_dist = [] # topic distributions for convo_2 training\n",
    "    for i in range(12):\n",
    "        topic_dist.append([0.0]*length)\n",
    "    for en, row in enumerate(distributions_convo2):\n",
    "        topics = row[0]\n",
    "        for topic in topics:\n",
    "            topic_dist[topic[0]][en] = topic[1]\n",
    "        if en in convo2_indices:\n",
    "            for i in range(12):\n",
    "                topic_dist[i][en] = np.nan\n",
    "    for i in range(12):\n",
    "        X_train['c2_topic' + str(i)] = topic_dist[i]\n",
    " \n",
    "    # get topic distributions for convo_1 and convo_2 testing\n",
    "    distributions_convo1 = lda_model[corp_convo1_test] # testing\n",
    "    distributions_convo2 = lda_model[corp_convo2_test]\n",
    "    length = len(corp_convo1_test) \n",
    "    \n",
    "    topic_dist = [] # topic distributions for convo_1 testing\n",
    "    for i in range(12):\n",
    "        topic_dist.append([0.0]*length)\n",
    "    for en, row in enumerate(distributions_convo1):\n",
    "        topics = row[0]\n",
    "        for topic in topics:\n",
    "            topic_dist[topic[0]][en] = topic[1]\n",
    "        if en in convo1_indices:\n",
    "            for i in range(12):\n",
    "                topic_dist[i][en] = np.nan\n",
    "    for i in range(12):\n",
    "        X_test['c1_topic' + str(i)] = topic_dist[i]\n",
    "        \n",
    "    topic_dist = [] # topic distributions for convo_2 testing\n",
    "    for i in range(12):\n",
    "        topic_dist.append([0.0]*length)\n",
    "    for en, row in enumerate(distributions_convo2):\n",
    "        topics = row[0]\n",
    "        for topic in topics:\n",
    "            topic_dist[topic[0]][en] = topic[1]\n",
    "        if en in convo2_indices:\n",
    "            for i in range(12):\n",
    "                topic_dist[i][en] = np.nan\n",
    "    for i in range(12):\n",
    "        X_test['c2_topic' + str(i)] = topic_dist[i]\n",
    "   \n",
    "    # fit model and predict\n",
    "    xgb = XGBClassifier(max_depth = max_depth, subsample = subsample)\n",
    "    y_pred_tr, y_pred_ts = predict_loo(xgb, X_train, y_train, X_test, y_test)\n",
    "    predictions_ts.append(y_pred_ts) #save prediction from each run-through\n",
    "    \n",
    "    # compute and store training performance\n",
    "    acc, prec, rec, auc = compute_metrics(y_train, y_pred_tr)\n",
    "    accuracy_tr.append(acc)\n",
    "    precision_tr.append(prec)\n",
    "    recall_tr.append(rec)\n",
    "    auc_tr.append(auc)\n",
    "    \n",
    "    clear_output(wait=True)\n",
    "    print('finished round ', index)\n",
    "    index += 1"
   ]
  },
  {
   "cell_type": "code",
   "execution_count": 11,
   "metadata": {},
   "outputs": [
    {
     "name": "stdout",
     "output_type": "stream",
     "text": [
      "training accuracy:  0.9947346470649566\n",
      "training precision:  0.9984663338847638\n",
      "training recall:  0.9799689660036677\n",
      "training auc:  0.9897433572211396\n",
      "\n",
      "testing accuracy:  0.7697841726618705\n",
      "testing precision:  0.5263157894736842\n",
      "testing recall:  0.5882352941176471\n",
      "testing auc  0.7084033613445379\n"
     ]
    }
   ],
   "source": [
    "# training performance\n",
    "print('training accuracy: ', np.average(accuracy_tr))\n",
    "print('training precision: ', np.average(precision_tr))\n",
    "print('training recall: ', np.average(recall_tr))\n",
    "print('training auc: ', np.average(auc_tr))\n",
    "\n",
    "print()\n",
    "\n",
    "# testing performance\n",
    "accuracy, precision, recall, auc = compute_metrics(y, predictions_ts)\n",
    "print('testing accuracy: ', accuracy)\n",
    "print('testing precision: ', precision)\n",
    "print('testing recall: ', recall)\n",
    "print('testing auc ', auc)"
   ]
  },
  {
   "cell_type": "markdown",
   "metadata": {},
   "source": [
    "# Baseline\n",
    "\n",
    "Variables:\n",
    "- age\n",
    "- gleason -- cancer grade\n",
    "- DVD -- control condition from previous study\n",
    "- tx2_binary -- preference (active surveillance vs treatment) before clinical appointment"
   ]
  },
  {
   "cell_type": "code",
   "execution_count": 12,
   "metadata": {},
   "outputs": [
    {
     "name": "stdout",
     "output_type": "stream",
     "text": [
      "finished round  139\n"
     ]
    }
   ],
   "source": [
    "#stores the testing predictions and training performance metrics\n",
    "predictions_ts = []\n",
    "accuracy_tr = []\n",
    "precision_tr = []\n",
    "recall_tr = []\n",
    "auc_tr = []\n",
    "\n",
    "# Define parameters for gradient-boosting algorithm\n",
    "max_depth = 3\n",
    "subsample = 0.9\n",
    "\n",
    "X = df[[\"age\", \"gleason\", \"DVD\", \"tx2_binary\"]]\n",
    "y = df[\"txgot_binary\"]\n",
    "X = np.array(X)\n",
    "y = np.array(y)\n",
    "\n",
    "loo = LeaveOneOut()\n",
    "\n",
    "index = 1 # for keeping track of progress\n",
    "\n",
    "for train_index, test_index in loo.split(X): # Loop over all split possibilities\n",
    "    #first split up the dataset\n",
    "    X_train, X_test = X[train_index], X[test_index]\n",
    "    y_train, y_test = y[train_index], y[test_index]\n",
    "    \n",
    "    # fit model and predict\n",
    "    xgb = XGBClassifier(max_depth = max_depth, subsample = subsample)\n",
    "    y_pred_tr, y_pred_ts = predict_loo(xgb, X_train, y_train, X_test, y_test)\n",
    "    predictions_ts.append(y_pred_ts)\n",
    "    \n",
    "    # compute and store training performance\n",
    "    acc, prec, rec, auc = compute_metrics(y_train, y_pred_tr)\n",
    "    accuracy_tr.append(acc)\n",
    "    precision_tr.append(prec)\n",
    "    recall_tr.append(rec)\n",
    "    auc_tr.append(auc)\n",
    "    \n",
    "    clear_output(wait=True)\n",
    "    print('finished round ', index)\n",
    "    index += 1"
   ]
  },
  {
   "cell_type": "code",
   "execution_count": 13,
   "metadata": {},
   "outputs": [
    {
     "name": "stdout",
     "output_type": "stream",
     "text": [
      "training accuracy:  0.8702950682931916\n",
      "training precision:  0.8404059000117805\n",
      "training recall:  0.5803229074494415\n",
      "training auc:  0.7722509469652932\n",
      "\n",
      "testing accuracy:  0.7553956834532374\n",
      "testing precision:  0.5\n",
      "testing recall:  0.38235294117647056\n",
      "testing auc  0.6292717086834734\n"
     ]
    }
   ],
   "source": [
    "# training performance\n",
    "print('training accuracy: ', np.average(accuracy_tr))\n",
    "print('training precision: ', np.average(precision_tr))\n",
    "print('training recall: ', np.average(recall_tr))\n",
    "print('training auc: ', np.average(auc_tr))\n",
    "\n",
    "print()\n",
    "\n",
    "# testing performance\n",
    "accuracy, precision, recall, auc = compute_metrics(y, predictions_ts)\n",
    "print('testing accuracy: ', accuracy)\n",
    "print('testing precision: ', precision)\n",
    "print('testing recall: ', recall)\n",
    "print('testing auc ', auc)"
   ]
  },
  {
   "cell_type": "markdown",
   "metadata": {},
   "source": [
    "# Baseline and Advice\n",
    "\n",
    "Variables:\n",
    "- age\n",
    "- gleason -- cancer grade\n",
    "- DVD -- control condition from previous study\n",
    "- tx2_binary -- preference (active surveillance vs treatment) before clinical appointment\n",
    "- as1 -- physician's advice for active surveillance\n",
    "- sur1 -- physician's advice for surgery\n",
    "- rad1 -- physician's advice for radiation therapy"
   ]
  },
  {
   "cell_type": "code",
   "execution_count": 14,
   "metadata": {},
   "outputs": [
    {
     "name": "stdout",
     "output_type": "stream",
     "text": [
      "finished round  139\n"
     ]
    }
   ],
   "source": [
    "#stores the testing predictions and training performance metrics\n",
    "predictions_ts = []\n",
    "accuracy_tr = []\n",
    "precision_tr = []\n",
    "recall_tr = []\n",
    "auc_tr = []\n",
    "\n",
    "# Define parameters for xgboost\n",
    "max_depth = 3\n",
    "subsample = 0.9\n",
    "\n",
    "X = df[[\"age\", \"gleason\", \"DVD\", \"tx2_binary\", \"as1\", \"sur1\", \"rad1\"]]\n",
    "y = df[\"txgot_binary\"]\n",
    "X = np.array(X)\n",
    "y = np.array(y)\n",
    "\n",
    "loo = LeaveOneOut()\n",
    "\n",
    "index = 1 # for keeping track of progress\n",
    "\n",
    "for train_index, test_index in loo.split(X): # Loop over all split possibilities\n",
    "    #first split up the dataset\n",
    "    X_train, X_test = X[train_index], X[test_index]\n",
    "    y_train, y_test = y[train_index], y[test_index]\n",
    "    \n",
    "    # fit model and predict\n",
    "    xgb = XGBClassifier(max_depth = max_depth, subsample = subsample)\n",
    "    y_pred_tr, y_pred_ts = predict_loo(xgb, X_train, y_train, X_test, y_test)\n",
    "    predictions_ts.append(y_pred_ts)\n",
    "    \n",
    "    # compute and store training performance\n",
    "    acc, prec, rec, auc = compute_metrics(y_train, y_pred_tr)\n",
    "    accuracy_tr.append(acc)\n",
    "    precision_tr.append(prec)\n",
    "    recall_tr.append(rec)\n",
    "    auc_tr.append(auc)\n",
    "    \n",
    "    clear_output(wait=True)\n",
    "    print('finished round ', index)\n",
    "    index += 1"
   ]
  },
  {
   "cell_type": "code",
   "execution_count": 15,
   "metadata": {},
   "outputs": [
    {
     "name": "stdout",
     "output_type": "stream",
     "text": [
      "training accuracy:  0.9393181107288082\n",
      "training precision:  0.8825104214664199\n",
      "training recall:  0.8680413957603971\n",
      "training auc:  0.9152109105452314\n",
      "\n",
      "testing accuracy:  0.7769784172661871\n",
      "testing precision:  0.5517241379310345\n",
      "testing recall:  0.47058823529411764\n",
      "testing auc  0.673389355742297\n"
     ]
    }
   ],
   "source": [
    "# training performance\n",
    "print('training accuracy: ', np.average(accuracy_tr))\n",
    "print('training precision: ', np.average(precision_tr))\n",
    "print('training recall: ', np.average(recall_tr))\n",
    "print('training auc: ', np.average(auc_tr))\n",
    "\n",
    "print()\n",
    "\n",
    "# testing performance\n",
    "accuracy, precision, recall, auc = compute_metrics(y, predictions_ts)\n",
    "print('testing accuracy: ', accuracy)\n",
    "print('testing precision: ', precision)\n",
    "print('testing recall: ', recall)\n",
    "print('testing auc ', auc)"
   ]
  },
  {
   "cell_type": "markdown",
   "metadata": {},
   "source": [
    "# Compute Feature Importances\n",
    "\n",
    "After using the metrics from above to determine that the parameters we set lead to good accuracy and AUC, we run this on the entire corpus of transcripts to create our master model. From this model, we calculate the feature importances of the variables."
   ]
  },
  {
   "cell_type": "code",
   "execution_count": 16,
   "metadata": {},
   "outputs": [],
   "source": [
    "df = pd.read_csv('dvd_withAdvice_final.csv')\n",
    "\n",
    "factors_all = [\"age\", \"gleason\", \"DVD\", \"tx2_binary\", \"combined_convos\", \"as1\", \"sur1\", \"rad1\"]\n",
    "df = df.dropna(subset=factors_all) # we only want to perform analysis on patients without any missing data for any of our variables\n",
    "df = df.reset_index(drop=True)\n",
    "\n",
    "factors_sub = [\"age\", \"gleason\", \"DVD\", \"tx2_binary\"] #these are the variables we'll actually use for this model\n",
    "X = df[factors_sub]\n",
    "y = df[\"txgot_binary\"]\n",
    "\n",
    "# save indices of missing conversations to convert them into missing data before feeding into XGBoost model\n",
    "convo1_indices = []\n",
    "convo2_indices = []\n",
    "for index, row in df.iterrows():\n",
    "    if pd.isnull(row['Convo_1']):\n",
    "        convo1_indices.append(index)\n",
    "    if pd.isnull(row['Convo_2']):\n",
    "        convo2_indices.append(index)\n",
    "\n",
    "X = np.array(X)\n",
    "y = np.array(y)\n",
    "\n",
    "#collect all conversations\n",
    "convo_combined = df[\"combined_convos\"]\n",
    "convo1 = df[\"Convo_1\"]\n",
    "convo2 = df[\"Convo_2\"]\n",
    "\n",
    "data_words_combined = list(sent_to_words(convo_combined))\n",
    "convo1 = list(sent_to_words(convo1))\n",
    "convo2 = list(sent_to_words(convo2))\n",
    "\n",
    "#creates bigrams of words commonly found together\n",
    "#for example, active_surveillance\n",
    "bigram_combined = gensim.models.Phrases(data_words_combined, min_count=2, threshold=100) \n",
    "bigram_convo1 = gensim.models.Phrases(convo1, min_count=2, threshold=100) \n",
    "bigram_convo2 = gensim.models.Phrases(convo2, min_count=2, threshold=100) \n",
    "\n",
    "bigram_mod_combined = gensim.models.phrases.Phraser(bigram_combined)\n",
    "bigram_mod_convo1 = gensim.models.phrases.Phraser(bigram_convo1)\n",
    "bigram_mod_convo2 = gensim.models.phrases.Phraser(bigram_convo2)\n",
    "\n",
    "#remove stop words\n",
    "data_words_nostops_combined = remove_stopwords(data_words_combined)\n",
    "data_words_nostops_convo1 = remove_stopwords(convo1)\n",
    "data_words_nostops_convo2 = remove_stopwords(convo2)\n",
    "\n",
    "data_words_bigrams_combined = make_bigrams_combined(data_words_nostops_combined)\n",
    "data_words_bigrams_convo1 = make_bigrams_convo1(data_words_nostops_convo1)\n",
    "data_words_bigrams_convo2 = make_bigrams_convo2(data_words_nostops_convo2)\n",
    "\n",
    "nlp = spacy.load('en', disable=['parser', 'ner'])\n",
    "\n",
    "#lemmatize the words\n",
    "data_lemmatized_combined = lemmatization(data_words_bigrams_combined, allowed_postags=['NOUN', 'ADJ', 'VERB', 'ADV'])\n",
    "data_lemmatized_convo1 = lemmatization(data_words_bigrams_convo1, allowed_postags=['NOUN', 'ADJ', 'VERB', 'ADV'])\n",
    "data_lemmatized_convo2 = lemmatization(data_words_bigrams_convo2, allowed_postags=['NOUN', 'ADJ', 'VERB', 'ADV'])\n",
    "\n",
    "#remove stop words again (as lemmatization sometimes reduces words that turn out to be stop words)\n",
    "data_lemmatized_combined = [[word for word in convo if word not in stopWords] for convo in data_lemmatized_combined]\n",
    "data_lemmatized_convo1 = [[word for word in convo if word not in stopWords] for convo in data_lemmatized_convo1]\n",
    "data_lemmatized_convo2 = [[word for word in convo if word not in stopWords] for convo in data_lemmatized_convo2]"
   ]
  },
  {
   "cell_type": "code",
   "execution_count": 17,
   "metadata": {},
   "outputs": [],
   "source": [
    "#PARAMETERS:\n",
    "\n",
    "#xgboost\n",
    "max_depth = 3\n",
    "subsample = 0.9\n",
    "\n",
    "#LDA\n",
    "no_below = 0.1\n",
    "no_above = 0.7\n",
    "keep_n = 5000\n",
    "\n",
    "# construct Dictionary from combined datasets \n",
    "id2word_combined = corpora.Dictionary(combined_lemmatized) # build corpus on training data only (NO LEAKAGE)\n",
    "id2word_combined.filter_extremes(no_below = no_below, no_above = no_above, keep_n = keep_n, keep_tokens = None)\n",
    "\n",
    "# create Bag of words model\n",
    "corp_combined = [id2word_combined.doc2bow(text) for text in combined_lemmatized]\n",
    "corp_combined = np.array(corp_combined)\n",
    "corp_convo1 = [id2word_combined.doc2bow(text) for text in convo1_lemmatized]\n",
    "corp_convo1 = np.array(corp_convo1)\n",
    "corp_convo2 = [id2word_combined.doc2bow(text) for text in convo2_lemmatized]\n",
    "corp_convo2 = np.array(corp_convo2)\n",
    "\n",
    "# Create LDA Model with combined corpus from above\n",
    "lda_model = gensim.models.ldamodel.LdaModel(corpus=corp_combined,\n",
    "                                       id2word=id2word_combined,\n",
    "                                       num_topics=12, \n",
    "                                       random_state=100,\n",
    "                                       update_every=3,\n",
    "                                       chunksize=20,\n",
    "                                       passes=10,\n",
    "                                       alpha='auto',\n",
    "                                       per_word_topics=True)\n",
    "\n",
    "# revert X back to dataframe so we can add on the topic distributions\n",
    "X = pd.DataFrame({'age':X[:,0],'gleason':X[:,1], \"DVD\": X[:,2], \"tx2_binary\": X[:, 3]})\n",
    "\n",
    "# get topic distributions for convo_1 and convo_2 \n",
    "distributions_convo1 = lda_model[corp_convo1] # \n",
    "distributions_convo2 = lda_model[corp_convo2]\n",
    "length = len(corp_convo1) \n",
    "    \n",
    "topic_dist = [] # topic distributions for convo_1 training\n",
    "for i in range(12): # number of topics in topic model\n",
    "    topic_dist.append([0.0]*length)\n",
    "for en, row in enumerate(distributions_convo1):\n",
    "    topics = row[0]\n",
    "    for topic in topics: # list of tuples that contains non-zero topic distributions in format [(1,.034), (4, .458)...]\n",
    "        topic_dist[topic[0]][en] = topic[1]\n",
    "    if en in convo1_indices:\n",
    "        for i in range(12):\n",
    "            topic_dist[i][en] = np.nan\n",
    "for i in range(12):\n",
    "    X['c1_topic' + str(i)] = topic_dist[i]\n",
    "\n",
    "topic_dist = [] # topic distributions for convo_2 training\n",
    "for i in range(12):\n",
    "    topic_dist.append([0.0]*length)\n",
    "for en, row in enumerate(distributions_convo2):\n",
    "    topics = row[0]\n",
    "    for topic in topics:\n",
    "        topic_dist[topic[0]][en] = topic[1]\n",
    "    if en in convo2_indices:\n",
    "        for i in range(12):\n",
    "            topic_dist[i][en] = np.nan\n",
    "for i in range(12):\n",
    "    X['c2_topic' + str(i)] = topic_dist[i]"
   ]
  },
  {
   "cell_type": "code",
   "execution_count": 18,
   "metadata": {
    "scrolled": true
   },
   "outputs": [
    {
     "data": {
      "image/png": "[encoded data removed]",
      "text/plain": [
       "<matplotlib.figure.Figure at 0x1a24ca5b00>"
      ]
     },
     "metadata": {},
     "output_type": "display_data"
    },
    {
     "name": "stdout",
     "output_type": "stream",
     "text": [
      "['c1_topic7', 0.16829745]\n",
      "['c2_topic7', 0.13111547]\n",
      "['c1_topic1', 0.113502935]\n",
      "['age', 0.10763209]\n",
      "['c1_topic0', 0.10763209]\n",
      "['c1_topic11', 0.10176125]\n",
      "['gleason', 0.0665362]\n",
      "['c2_topic0', 0.056751467]\n",
      "['c2_topic4', 0.04892368]\n",
      "['tx2_binary', 0.045009784]\n",
      "['c2_topic1', 0.023483366]\n",
      "['c1_topic4', 0.01369863]\n",
      "['c2_topic11', 0.009784736]\n",
      "['DVD', 0.0058708414]\n",
      "['c2_topic10', 0.0]\n",
      "['c1_topic8', 0.0]\n",
      "['c1_topic10', 0.0]\n",
      "['c1_topic6', 0.0]\n",
      "['c1_topic5', 0.0]\n",
      "['c2_topic2', 0.0]\n",
      "['c1_topic3', 0.0]\n",
      "['c1_topic2', 0.0]\n",
      "['c2_topic3', 0.0]\n",
      "['c2_topic5', 0.0]\n",
      "['c2_topic6', 0.0]\n",
      "['c2_topic8', 0.0]\n",
      "['c2_topic9', 0.0]\n",
      "['c1_topic9', 0.0]\n"
     ]
    }
   ],
   "source": [
    "#create our model\n",
    "clf = XGBClassifier(max_depth = max_depth, subsample = subsample)\n",
    "X_np = np.array(X)\n",
    "clf.fit(X_np, y)\n",
    "\n",
    "#plots the feature importances\n",
    "temp = plot_importance(clf)\n",
    "pyplot.show(temp)\n",
    "\n",
    "#lists the features in order of importance\n",
    "sorted_idx = np.argsort(clf.feature_importances_)[::-1]\n",
    "for index in sorted_idx:\n",
    "    print([X.columns[index], clf.feature_importances_[index]]) "
   ]
  },
  {
   "cell_type": "markdown",
   "metadata": {},
   "source": [
    "+ ['c1_topic11', 0.19094488], ['age', 0.16929133], ['c2_topic7', 0.15551181], ['c1_topic7', 0.12992126], ['c1_topic0', 0.10236221], ['gleason', 0.07874016], ['c2_topic11', 0.061023623], ['tx2_binary', 0.05511811], ['c2_topic0', 0.037401576], ['DVD', 0.00984252], ['c1_topic1', 0.007874016], ['c2_topic1', 0.001968504]"
   ]
  },
  {
   "cell_type": "markdown",
   "metadata": {},
   "source": [
    "# Viewing the Topics"
   ]
  },
  {
   "cell_type": "code",
   "execution_count": 19,
   "metadata": {},
   "outputs": [
    {
     "name": "stdout",
     "output_type": "stream",
     "text": [
      "DVD Topics:\n",
      "[(0,\n",
      "  '0.009*\"robotic\" + 0.008*\"erectile\" + 0.005*\"book\" + 0.005*\"situation\" + '\n",
      "  '0.005*\"robot\" + 0.004*\"lymph_node\" + 0.004*\"sphincter\" + 0.004*\"pad\" + '\n",
      "  '0.004*\"physical\" + 0.003*\"generally\" + 0.003*\"volume\" + 0.003*\"additional\" '\n",
      "  '+ 0.003*\"outside\" + 0.003*\"rare\" + 0.003*\"spare\" + 0.003*\"damage\" + '\n",
      "  '0.003*\"tumor\" + 0.003*\"activity\" + 0.003*\"bowel\" + 0.003*\"rate\" + '\n",
      "  '0.003*\"heal\" + 0.003*\"pathologist\" + 0.003*\"pathology\" + 0.003*\"research\" + '\n",
      "  '0.003*\"anywhere\" + 0.003*\"fix\" + 0.003*\"dry\" + 0.003*\"level\" + 0.003*\"add\" '\n",
      "  '+ 0.003*\"wear\" + 0.003*\"recover\" + 0.003*\"middle\" + 0.003*\"penis\" + '\n",
      "  '0.003*\"kill\" + 0.003*\"health\" + 0.002*\"viagra\" + 0.002*\"stage\" + '\n",
      "  '0.002*\"write\" + 0.002*\"learn\" + 0.002*\"scar\" + 0.002*\"notice\" + 0.002*\"top\" '\n",
      "  '+ 0.002*\"soon\" + 0.002*\"freeze\" + 0.002*\"definitely\" + 0.002*\"nurse\" + '\n",
      "  '0.002*\"ability\" + 0.002*\"active\" + 0.002*\"bathroom\" + 0.002*\"blood_flow\"'),\n",
      " (1,\n",
      "  '0.005*\"dad\" + 0.004*\"listen\" + 0.004*\"hormone\" + 0.004*\"brother\" + '\n",
      "  '0.004*\"pee\" + 0.003*\"heal\" + 0.003*\"walk\" + 0.003*\"morning\" + '\n",
      "  '0.003*\"blood_pressure\" + 0.003*\"pull\" + 0.003*\"bump\" + 0.003*\"pill\" + '\n",
      "  '0.003*\"book\" + 0.003*\"family\" + 0.003*\"explain\" + 0.003*\"job\" + '\n",
      "  '0.003*\"belly\" + 0.003*\"spare\" + 0.003*\"range\" + 0.003*\"situation\" + '\n",
      "  '0.003*\"outside\" + 0.003*\"lymph_node\" + 0.003*\"drink\" + 0.002*\"recover\" + '\n",
      "  '0.002*\"fly\" + 0.002*\"smoke\" + 0.002*\"medical\" + 0.002*\"notice\" + '\n",
      "  '0.002*\"leg\" + 0.002*\"benefit\" + 0.002*\"list\" + 0.002*\"external\" + '\n",
      "  '0.002*\"lay\" + 0.002*\"outcome\" + 0.002*\"small_incision\" + 0.002*\"mom\" + '\n",
      "  '0.002*\"operation\" + 0.002*\"sexual\" + 0.002*\"past\" + 0.002*\"mention\" + '\n",
      "  '0.002*\"burn\" + 0.002*\"appreciate\" + 0.002*\"robot\" + 0.002*\"skin\" + '\n",
      "  '0.002*\"dry\" + 0.002*\"rate\" + 0.002*\"wife\" + 0.002*\"bowel_movement\" + '\n",
      "  '0.002*\"folk\" + 0.002*\"definitely\"'),\n",
      " (2,\n",
      "  '0.000*\"implant\" + 0.000*\"external_beam\" + 0.000*\"bowel\" + 0.000*\"group\" + '\n",
      "  '0.000*\"likelihood\" + 0.000*\"brachytherapy\" + 0.000*\"beam\" + '\n",
      "  '0.000*\"lymph_node\" + 0.000*\"testosterone\" + 0.000*\"instance\" + '\n",
      "  '0.000*\"benefit\" + 0.000*\"hormone_therapy\" + 0.000*\"proton\" + 0.000*\"datum\" '\n",
      "  '+ 0.000*\"surgical\" + 0.000*\"tumor\" + 0.000*\"urologist\" + 0.000*\"hormone\" + '\n",
      "  '0.000*\"true\" + 0.000*\"choose\" + 0.000*\"outside\" + 0.000*\"approach\" + '\n",
      "  '0.000*\"deliver\" + 0.000*\"amount\" + 0.000*\"recover\" + 0.000*\"choice\" + '\n",
      "  '0.000*\"erectile\" + 0.000*\"sexual\" + 0.000*\"listen\" + 0.000*\"alone\" + '\n",
      "  '0.000*\"outcome\" + 0.000*\"urinate\" + 0.000*\"needle\" + 0.000*\"recurrence\" + '\n",
      "  '0.000*\"line\" + 0.000*\"volume\" + 0.000*\"rectal_exam\" + 0.000*\"robotic\" + '\n",
      "  '0.000*\"certain\" + 0.000*\"xray\" + 0.000*\"longterm\" + 0.000*\"drive\" + '\n",
      "  '0.000*\"job\" + 0.000*\"compare\" + 0.000*\"essentially\" + 0.000*\"spare\" + '\n",
      "  '0.000*\"road\" + 0.000*\"generally\" + 0.000*\"middle\" + 0.000*\"anymore\"'),\n",
      " (3,\n",
      "  '0.000*\"bowel\" + 0.000*\"implant\" + 0.000*\"group\" + 0.000*\"external_beam\" + '\n",
      "  '0.000*\"lymph_node\" + 0.000*\"beam\" + 0.000*\"benefit\" + 0.000*\"rate\" + '\n",
      "  '0.000*\"testosterone\" + 0.000*\"likelihood\" + 0.000*\"erectile\" + '\n",
      "  '0.000*\"situation\" + 0.000*\"surgical\" + 0.000*\"certain\" + 0.000*\"external\" + '\n",
      "  '0.000*\"brachytherapy\" + 0.000*\"tumor\" + 0.000*\"needle\" + 0.000*\"sexual\" + '\n",
      "  '0.000*\"drive\" + 0.000*\"middle\" + 0.000*\"grade\" + 0.000*\"true\" + '\n",
      "  '0.000*\"outside\" + 0.000*\"urologist\" + 0.000*\"deliver\" + 0.000*\"muscle\" + '\n",
      "  '0.000*\"notice\" + 0.000*\"approach\" + 0.000*\"choose\" + 0.000*\"recurrence\" + '\n",
      "  '0.000*\"fill\" + 0.000*\"instance\" + 0.000*\"rectal\" + 0.000*\"hormone\" + '\n",
      "  '0.000*\"size\" + 0.000*\"proton\" + 0.000*\"recover\" + 0.000*\"tube\" + '\n",
      "  '0.000*\"hormonal_therapy\" + 0.000*\"listen\" + 0.000*\"thought\" + '\n",
      "  '0.000*\"lowrisk\" + 0.000*\"add\" + 0.000*\"operation\" + 0.000*\"compare\" + '\n",
      "  '0.000*\"volume\" + 0.000*\"radiate\" + 0.000*\"sleep\" + 0.000*\"road\"'),\n",
      " (4,\n",
      "  '0.020*\"hormone_therapy\" + 0.013*\"trial\" + 0.011*\"hormone\" + '\n",
      "  '0.009*\"testosterone\" + 0.006*\"walk\" + 0.006*\"tube\" + 0.005*\"proton\" + '\n",
      "  '0.005*\"randomize\" + 0.004*\"benefit\" + 0.004*\"bowel\" + '\n",
      "  '0.004*\"bowel_movement\" + 0.004*\"heart_attack\" + 0.004*\"sexual\" + '\n",
      "  '0.004*\"email\" + 0.004*\"ct_scan\" + 0.004*\"implant\" + 0.004*\"beam\" + '\n",
      "  '0.004*\"add\" + 0.004*\"head\" + 0.004*\"melanoma\" + 0.003*\"enroll\" + '\n",
      "  '0.003*\"middle\" + 0.003*\"grade\" + 0.003*\"sign\" + 0.003*\"forth\" + '\n",
      "  '0.003*\"mention\" + 0.003*\"equal\" + 0.003*\"name\" + 0.003*\"bypass\" + '\n",
      "  '0.003*\"clinic\" + 0.003*\"hop\" + 0.003*\"position\" + 0.003*\"phone\" + '\n",
      "  '0.003*\"finasteride\" + 0.003*\"nodule\" + 0.003*\"rest\" + 0.003*\"hair\" + '\n",
      "  '0.003*\"pick\" + 0.003*\"north\" + 0.003*\"job\" + 0.003*\"water\" + 0.003*\"line\" + '\n",
      "  '0.003*\"develop\" + 0.003*\"dysfunction\" + 0.003*\"category\" + 0.003*\"research\" '\n",
      "  '+ 0.003*\"lean\" + 0.003*\"road\" + 0.003*\"odd\" + 0.003*\"kill\"'),\n",
      " (5,\n",
      "  '0.000*\"external_beam\" + 0.000*\"group\" + 0.000*\"bowel\" + 0.000*\"implant\" + '\n",
      "  '0.000*\"hormone_therapy\" + 0.000*\"likelihood\" + 0.000*\"beam\" + '\n",
      "  '0.000*\"benefit\" + 0.000*\"instance\" + 0.000*\"deliver\" + 0.000*\"sleep\" + '\n",
      "  '0.000*\"datum\" + 0.000*\"notice\" + 0.000*\"urologist\" + 0.000*\"radiate\" + '\n",
      "  '0.000*\"situation\" + 0.000*\"testosterone\" + 0.000*\"brachytherapy\" + '\n",
      "  '0.000*\"tumor\" + 0.000*\"size\" + 0.000*\"erectile\" + 0.000*\"needle\" + '\n",
      "  '0.000*\"level\" + 0.000*\"recover\" + 0.000*\"range\" + 0.000*\"job\" + '\n",
      "  '0.000*\"longterm\" + 0.000*\"approach\" + 0.000*\"potentially\" + '\n",
      "  '0.000*\"possible\" + 0.000*\"rid\" + 0.000*\"damage\" + 0.000*\"add\" + '\n",
      "  '0.000*\"amount\" + 0.000*\"true\" + 0.000*\"mention\" + 0.000*\"hormone\" + '\n",
      "  '0.000*\"surgical\" + 0.000*\"suggest\" + 0.000*\"system\" + 0.000*\"begin\" + '\n",
      "  '0.000*\"robotic\" + 0.000*\"figure\" + 0.000*\"surveillance\" + 0.000*\"record\" + '\n",
      "  '0.000*\"rectal\" + 0.000*\"urinate\" + 0.000*\"drive\" + 0.000*\"outcome\" + '\n",
      "  '0.000*\"short\"'),\n",
      " (6,\n",
      "  '0.000*\"win\" + 0.000*\"cyberknife\" + 0.000*\"definitive_management\" + '\n",
      "  '0.000*\"propensity\" + 0.000*\"fixable\" + 0.000*\"mainstay\" + 0.000*\"statistic\" '\n",
      "  '+ 0.000*\"refresh\" + 0.000*\"external_beam\" + 0.000*\"report\" + '\n",
      "  '0.000*\"sensitive\" + 0.000*\"accelerator\" + 0.000*\"money\" + 0.000*\"client\" + '\n",
      "  '0.000*\"histology\" + 0.000*\"scan\" + 0.000*\"tease\" + 0.000*\"group\" + '\n",
      "  '0.000*\"correlation\" + 0.000*\"detect\" + 0.000*\"implant\" + 0.000*\"bowel\" + '\n",
      "  '0.000*\"testosterone\" + 0.000*\"tumor\" + 0.000*\"horseback_rid\" + '\n",
      "  '0.000*\"needle\" + 0.000*\"stage\" + 0.000*\"instance\" + 0.000*\"brachytherapy\" + '\n",
      "  '0.000*\"amount\" + 0.000*\"benefit\" + 0.000*\"quadrant\" + 0.000*\"choose\" + '\n",
      "  '0.000*\"likelihood\" + 0.000*\"outcome\" + 0.000*\"opinion\" + '\n",
      "  '0.000*\"necessarily\" + 0.000*\"compare\" + 0.000*\"datum\" + 0.000*\"longterm\" + '\n",
      "  '0.000*\"possible\" + 0.000*\"thought\" + 0.000*\"paper\" + 0.000*\"lymph\" + '\n",
      "  '0.000*\"deliver\" + 0.000*\"borrow\" + 0.000*\"medical\" + 0.000*\"wife\" + '\n",
      "  '0.000*\"radiate\" + 0.000*\"volume\"'),\n",
      " (7,\n",
      "  '0.008*\"external_beam\" + 0.006*\"implant\" + 0.005*\"brachytherapy\" + '\n",
      "  '0.005*\"group\" + 0.005*\"bowel\" + 0.004*\"beam\" + 0.004*\"needle\" + '\n",
      "  '0.003*\"external\" + 0.003*\"deliver\" + 0.003*\"irritation\" + 0.003*\"longterm\" '\n",
      "  '+ 0.003*\"clinical_trial\" + 0.003*\"amount\" + 0.003*\"datum\" + '\n",
      "  '0.003*\"possible\" + 0.003*\"essentially\" + 0.003*\"rectal\" + 0.003*\"ct_scan\" + '\n",
      "  '0.003*\"beacon\" + 0.003*\"outcome\" + 0.002*\"urinate\" + 0.002*\"radiate\" + '\n",
      "  '0.002*\"interested\" + 0.002*\"tumor\" + 0.002*\"fill\" + 0.002*\"instance\" + '\n",
      "  '0.002*\"choose\" + 0.002*\"urologist\" + 0.002*\"testosterone\" + 0.002*\"hormone\" '\n",
      "  '+ 0.002*\"benefit\" + 0.002*\"size\" + 0.002*\"lowrisk\" + 0.002*\"drug\" + '\n",
      "  '0.002*\"generally\" + 0.002*\"certain\" + 0.002*\"compare\" + 0.002*\"marker\" + '\n",
      "  '0.002*\"continue\" + 0.002*\"likelihood\" + 0.002*\"email\" + 0.002*\"machine\" + '\n",
      "  '0.002*\"completely\" + 0.002*\"increase\" + 0.002*\"line\" + 0.002*\"grade\" + '\n",
      "  '0.002*\"medical\" + 0.002*\"department\" + 0.002*\"ultrasound\" + '\n",
      "  '0.002*\"rectal_exam\"'),\n",
      " (8,\n",
      "  '0.000*\"group\" + 0.000*\"react\" + 0.000*\"wife\" + 0.000*\"brother\" + '\n",
      "  '0.000*\"leg\" + 0.000*\"bug\" + 0.000*\"needle\" + 0.000*\"saturation\" + '\n",
      "  '0.000*\"grandkid\" + 0.000*\"bathroom\" + 0.000*\"irritation\" + 0.000*\"diagnose\" '\n",
      "  '+ 0.000*\"dad\" + 0.000*\"morning\" + 0.000*\"shake\" + 0.000*\"family\" + '\n",
      "  '0.000*\"surveillance\" + 0.000*\"suggest\" + 0.000*\"sociology\" + '\n",
      "  '0.000*\"external_beam\" + 0.000*\"lump\" + 0.000*\"christma\" + 0.000*\"tumor\" + '\n",
      "  '0.000*\"frank\" + 0.000*\"record\" + 0.000*\"bowel\" + 0.000*\"kid\" + 0.000*\"miss\" '\n",
      "  '+ 0.000*\"template\" + 0.000*\"operation\" + 0.000*\"blood_pressure\" + '\n",
      "  '0.000*\"benefit\" + 0.000*\"unlikely\" + 0.000*\"stick\" + 0.000*\"instance\" + '\n",
      "  '0.000*\"likelihood\" + 0.000*\"approach\" + 0.000*\"diarrhea\" + '\n",
      "  '0.000*\"rectal_exam\" + 0.000*\"quit\" + 0.000*\"reflux\" + 0.000*\"sleep\" + '\n",
      "  '0.000*\"grade\" + 0.000*\"friend\" + 0.000*\"true\" + 0.000*\"navy\" + 0.000*\"bear\" '\n",
      "  '+ 0.000*\"middle\" + 0.000*\"bump\" + 0.000*\"potential\"'),\n",
      " (9,\n",
      "  '0.005*\"spot\" + 0.004*\"cell_phone\" + 0.004*\"bowel\" + 0.004*\"knee\" + '\n",
      "  '0.004*\"embarrassing\" + 0.003*\"frequently\" + 0.003*\"ready\" + 0.003*\"bottom\" '\n",
      "  '+ 0.003*\"nodule\" + 0.003*\"sir\" + 0.003*\"twice\" + 0.003*\"agree\" + '\n",
      "  '0.003*\"accord\" + 0.003*\"company\" + 0.003*\"everywhere\" + 0.003*\"eye\" + '\n",
      "  '0.003*\"approach\" + 0.002*\"wife\" + 0.002*\"perhaps\" + 0.002*\"implant\" + '\n",
      "  '0.002*\"line\" + 0.002*\"compromise\" + 0.002*\"bother\" + 0.002*\"anesthesia\" + '\n",
      "  '0.002*\"sliver\" + 0.002*\"mental\" + 0.002*\"diff\" + 0.002*\"digital\" + '\n",
      "  '0.002*\"building\" + 0.002*\"pole\" + 0.002*\"escort\" + 0.002*\"monitor\" + '\n",
      "  '0.002*\"tv\" + 0.002*\"coverage\" + 0.002*\"expensive\" + 0.002*\"thinking\" + '\n",
      "  '0.002*\"list\" + 0.002*\"electronic\" + 0.002*\"antenna\" + 0.002*\"apple\" + '\n",
      "  '0.002*\"damage\" + 0.002*\"confidence\" + 0.002*\"busy\" + 0.002*\"taking\" + '\n",
      "  '0.002*\"add\" + 0.002*\"split\" + 0.002*\"anxiety\" + 0.002*\"trigger\" + '\n",
      "  '0.002*\"alive\" + 0.002*\"favorable\"'),\n",
      " (10,\n",
      "  '0.000*\"bowel\" + 0.000*\"brachytherapy\" + 0.000*\"beam\" + '\n",
      "  '0.000*\"external_beam\" + 0.000*\"lymph_node\" + 0.000*\"recover\" + '\n",
      "  '0.000*\"erectile\" + 0.000*\"group\" + 0.000*\"implant\" + 0.000*\"urologist\" + '\n",
      "  '0.000*\"likelihood\" + 0.000*\"several\" + 0.000*\"radiate\" + 0.000*\"choose\" + '\n",
      "  '0.000*\"true\" + 0.000*\"surgical\" + 0.000*\"testosterone\" + 0.000*\"possible\" + '\n",
      "  '0.000*\"benefit\" + 0.000*\"needle\" + 0.000*\"outside\" + 0.000*\"robotic\" + '\n",
      "  '0.000*\"job\" + 0.000*\"approach\" + 0.000*\"necessarily\" + 0.000*\"figure\" + '\n",
      "  '0.000*\"deliver\" + 0.000*\"xray\" + 0.000*\"damage\" + 0.000*\"generally\" + '\n",
      "  '0.000*\"short\" + 0.000*\"outcome\" + 0.000*\"amount\" + 0.000*\"irritation\" + '\n",
      "  '0.000*\"level\" + 0.000*\"listen\" + 0.000*\"certain\" + 0.000*\"grade\" + '\n",
      "  '0.000*\"instance\" + 0.000*\"sexual\" + 0.000*\"datum\" + 0.000*\"rectal_exam\" + '\n",
      "  '0.000*\"compare\" + 0.000*\"drive\" + 0.000*\"external\" + 0.000*\"overall\" + '\n",
      "  '0.000*\"completely\" + 0.000*\"beacon\" + 0.000*\"step\" + 0.000*\"top\"'),\n",
      " (11,\n",
      "  '0.017*\"surveillance\" + 0.015*\"approach\" + 0.009*\"likelihood\" + '\n",
      "  '0.008*\"operation\" + 0.006*\"choose\" + 0.006*\"extensive\" + 0.006*\"diagnose\" + '\n",
      "  '0.005*\"grade\" + 0.004*\"sideeffect\" + 0.004*\"avoid\" + 0.004*\"potentially\" + '\n",
      "  '0.004*\"health\" + 0.004*\"potential\" + 0.004*\"benefit\" + 0.004*\"possible\" + '\n",
      "  '0.004*\"needle\" + 0.004*\"recover\" + 0.003*\"drive\" + 0.003*\"diagnosis\" + '\n",
      "  '0.003*\"examine\" + 0.003*\"manage\" + 0.003*\"discussion\" + 0.003*\"erectile\" + '\n",
      "  '0.003*\"baseline\" + 0.003*\"surgical\" + 0.003*\"evidence\" + '\n",
      "  '0.003*\"prostatectomy\" + 0.003*\"move_forward\" + 0.003*\"goal\" + 0.003*\"pill\" '\n",
      "  '+ 0.003*\"discuss\" + 0.003*\"focus\" + 0.003*\"line\" + 0.003*\"overall\" + '\n",
      "  '0.003*\"generally\" + 0.003*\"volume\" + 0.003*\"sexual\" + 0.003*\"tumor\" + '\n",
      "  '0.003*\"step\" + 0.003*\"outcome\" + 0.003*\"happy\" + 0.003*\"curative\" + '\n",
      "  '0.003*\"preference\" + 0.003*\"road\" + 0.002*\"rectal_exam\" + 0.002*\"pursue\" + '\n",
      "  '0.002*\"definitive\" + 0.002*\"robotic\" + 0.002*\"situation\" + 0.002*\"family\"')]\n"
     ]
    }
   ],
   "source": [
    "#print the top words used to form each topic\n",
    "print(\"DVD Topics:\")\n",
    "pprint(lda_model.print_topics(num_words=50))"
   ]
  },
  {
   "cell_type": "markdown",
   "metadata": {},
   "source": [
    "# Topic Distributions by Class"
   ]
  },
  {
   "cell_type": "code",
   "execution_count": 20,
   "metadata": {},
   "outputs": [],
   "source": [
    "y_pred = clf.predict(X_np)\n",
    "X['pred'] = y_pred\n",
    "X_0 = X[X.pred == 0]\n",
    "X_1 = X[X.pred == 1]\n",
    "X_0 = X_0[['c1_topic0', 'c1_topic1', 'c1_topic2', 'c1_topic3', 'c1_topic4', 'c1_topic5', 'c1_topic6', 'c1_topic7', 'c1_topic8', 'c1_topic9', 'c1_topic10', 'c1_topic11', 'c2_topic0', 'c2_topic1', 'c2_topic2', 'c2_topic3', 'c2_topic4', 'c2_topic5', 'c2_topic6', 'c2_topic7', 'c2_topic8', 'c2_topic9', 'c2_topic10', 'c2_topic11']]\n",
    "X_1 = X_1[['c1_topic0', 'c1_topic1', 'c1_topic2', 'c1_topic3', 'c1_topic4', 'c1_topic5', 'c1_topic6', 'c1_topic7', 'c1_topic8', 'c1_topic9', 'c1_topic10', 'c1_topic11', 'c2_topic0', 'c2_topic1', 'c2_topic2', 'c2_topic3', 'c2_topic4', 'c2_topic5', 'c2_topic6', 'c2_topic7', 'c2_topic8', 'c2_topic9', 'c2_topic10', 'c2_topic11']]"
   ]
  },
  {
   "cell_type": "code",
   "execution_count": 21,
   "metadata": {},
   "outputs": [],
   "source": [
    "np.set_printoptions(formatter={'float_kind':'{:f}'.format})"
   ]
  },
  {
   "cell_type": "code",
   "execution_count": 22,
   "metadata": {},
   "outputs": [
    {
     "data": {
      "text/plain": [
       "array([0.158864, 0.233513, 0.000000, 0.000000, 0.018667, 0.000000,\n",
       "       0.000000, 0.398491, 0.000000, 0.011411, 0.000000, 0.177052,\n",
       "       0.090767, 0.151919, 0.000000, 0.000000, 0.026933, 0.000000,\n",
       "       0.000000, 0.646902, 0.000000, 0.000000, 0.000000, 0.082709])"
      ]
     },
     "execution_count": 22,
     "metadata": {},
     "output_type": "execute_result"
    }
   ],
   "source": [
    "vals_1 = X_1.mean().values # use to choose non-negligible topics for visualization\n",
    "vals_1"
   ]
  },
  {
   "cell_type": "code",
   "execution_count": 23,
   "metadata": {},
   "outputs": [
    {
     "name": "stdout",
     "output_type": "stream",
     "text": [
      "[0.19307265152205147, 0.3128256638917853, 0.35945929339447735, 0.09635433732696316, 0.09895522745353157, 0.6061195404255304, 0.05772495250878991]\n",
      "[0.15886403446824388, 0.23351348612200598, 0.3984910099413888, 0.1770519653078297, 0.09076719108576838, 0.6469017698576576, 0.08270879423147753]\n"
     ]
    }
   ],
   "source": [
    "vals_0 = X_0.mean().values\n",
    "vals_0 = [vals_0[0], vals_0[1], vals_0[7], vals_0[11], vals_0[12], vals_0[19], vals_0[23]]\n",
    "vals_1 = X_1.mean().values\n",
    "vals_1 = [vals_1[0], vals_1[1], vals_1[7], vals_1[11], vals_1[12], vals_1[19], vals_1[23]]\n",
    "print(vals_0)\n",
    "print(vals_1)"
   ]
  },
  {
   "cell_type": "code",
   "execution_count": 25,
   "metadata": {},
   "outputs": [
    {
     "name": "stdout",
     "output_type": "stream",
     "text": [
      "[0, 1, 2, 3, 4, 5, 6]\n",
      "[0.25, 1.25, 2.25, 3.25, 4.25, 5.25, 6.25]\n",
      "[0.1, 1.1, 2.1, 3.1, 4.1, 5.1, 6.1]\n"
     ]
    },
    {
     "data": {
      "image/png": "[encoded data removed]",
      "text/plain": [
       "<matplotlib.figure.Figure at 0x1a3a6f6d30>"
      ]
     },
     "metadata": {},
     "output_type": "display_data"
    }
   ],
   "source": [
    "import matplotlib.pyplot as plt\n",
    "x = ['C1 Topic 0', 'C1 Topic 1', 'C1 Topic 7', 'C1 Topic 11', 'C2 Topic 0', 'C2 Topic 7', 'C2 Topic 11']\n",
    "x_pos0 = [i for i, _ in enumerate(x)]\n",
    "x_pos1 = [i+0.25 for i in x_pos0]\n",
    "x_pos_middle = [i+0.1 for i in x_pos0]\n",
    "print(x_pos0)\n",
    "print(x_pos1)\n",
    "print(x_pos_middle)\n",
    "\n",
    "plt.bar(x_pos0, vals_0, color='orange',width=0.25)\n",
    "plt.bar(x_pos1, vals_1, color='blue', width=0.25)\n",
    "plt.ylabel(\"Average Topic Proportion\")\n",
    "plt.title(\"Average Topic Occurrences by Predicted Choice\")\n",
    "plt.xticks(x_pos_middle, x, rotation=60)\n",
    "plt.show()"
   ]
  }
 ],
 "metadata": {
  "kernelspec": {
   "display_name": "Python 3",
   "language": "python",
   "name": "python3"
  },
  "language_info": {
   "codemirror_mode": {
    "name": "ipython",
    "version": 3
   },
   "file_extension": ".py",
   "mimetype": "text/x-python",
   "name": "python",
   "nbconvert_exporter": "python",
   "pygments_lexer": "ipython3",
   "version": "3.6.4"
  }
 },
 "nbformat": 4,
 "nbformat_minor": 2
}
